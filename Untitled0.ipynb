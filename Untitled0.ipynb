{
  "nbformat": 4,
  "nbformat_minor": 0,
  "metadata": {
    "colab": {
      "provenance": [],
      "toc_visible": true,
      "authorship_tag": "ABX9TyNyFN2UOFXGkX4dM4OpZddl",
      "include_colab_link": true
    },
    "kernelspec": {
      "name": "python3",
      "display_name": "Python 3"
    },
    "language_info": {
      "name": "python"
    }
  },
  "cells": [
    {
      "cell_type": "markdown",
      "metadata": {
        "id": "view-in-github",
        "colab_type": "text"
      },
      "source": [
        "<a href=\"https://colab.research.google.com/github/BOJTKAH/BOJTKAH/blob/main/Untitled0.ipynb\" target=\"_parent\"><img src=\"https://colab.research.google.com/assets/colab-badge.svg\" alt=\"Open In Colab\"/></a>"
      ]
    },
    {
      "cell_type": "code",
      "execution_count": null,
      "metadata": {
        "id": "EfsJUjejkVrb"
      },
      "outputs": [],
      "source": [
        "def para_yazi_ile(sayi):\n",
        "    BR = [\"\", \"Bir \", \"İki \", \"Üç \", \"Dört \", \"Beş \", \"Altı \", \"Yedi \", \"Sekiz \", \"Dokuz \"]\n",
        "    ON = [\"\", \"On \", \"Yirmi \", \"Otuz \", \"Kırk \", \"Elli \", \"Altmış \", \"Yetmiş \", \"Seksen \", \"Doksan \"]\n",
        "    BN = [\"\",\"Bin \",\"Milyon \",\"Milyar \",\"Trilyon \",\"Katrilyon \",\"Kentilyon \"]\n",
        "\n",
        "    def yuz_yaz(TLL):\n",
        "        hane=len(TLL)\n",
        "        TLy=\"\"\n",
        "        for i in TLL:\n",
        "            if hane%3==0:\n",
        "                if int(i)==0:\n",
        "                    TLy+=\"\"\n",
        "                else:\n",
        "                    TLy+=BR[int(i)]+\"Yüz \"\n",
        "            elif (hane+1)%3==0:\n",
        "                TLy+=ON[int(i)]\n",
        "            elif (hane+2)%3==0:\n",
        "                TLy+=BR[int(i)]\n",
        "            hane-=1\n",
        "        return TLy\n",
        "\n",
        "    sayi=sayi.replace(\",\",\".\")\n",
        "    nokta=sayi.find(\".\")\n",
        "    if nokta==-1:\n",
        "        KR=\"\"\n",
        "    else:\n",
        "        KR=sayi[nokta+1:len(sayi)+1]\n",
        "        if len(KR)==1:\n",
        "            KR=KR+\"0\"\n",
        "    sayi=float(sayi)\n",
        "    TL=int(sayi)\n",
        "    TL=str(TL)\n",
        "    if len(TL)>21:\n",
        "        print(\"SAYI ÇOK BÜYÜK\")\n",
        "        exit\n",
        "    i=len(TL)\n",
        "    j=(i-1)//3\n",
        "    TL1=\"\"\n",
        "    TL2=TL[::-1]\n",
        "    TL3=\"\"\n",
        "    hn=True\n",
        "    while j>=0:\n",
        "        while i>0 and hn:\n",
        "            TL1+=TL2[i-1]\n",
        "            i-=1\n",
        "            if i%3==0:\n",
        "                hn=False\n",
        "        TL3+=yuz_yaz(TL1)\n",
        "        TL3+=BN[j]\n",
        "        TL1=\"\"\n",
        "        hn=True\n",
        "        j-=1\n",
        "    TL3=TL3[:len(TL3)-1]\n",
        "    TL3=TL3.replace(\"Bir Yüz \",\"Yüz \",-1)\n",
        "    if len(TL)==4:\n",
        "        TL3=TL3.replace(\"Bir Bin \",\"Bin \",-1)\n",
        "    if KR==\"00\" or KR==\"\":\n",
        "        TL3=\"Yalnız \"+TL3+\" Türk Lirası ve Sıfır Kuruştur.\"\n",
        "    else:\n",
        "        KR=yuz_yaz(KR)\n",
        "        KR=KR[:len(KR)-1]\n",
        "        TL3=\"Yalnız \"+TL3+\" Türk Lirası ve \"+KR+\" Kuruştur.\"\n",
        "    return TL3\n"
      ]
    },
    {
      "cell_type": "code",
      "source": [
        "    inp_sayi=input(\"Sayı Girin\")\n",
        "    inp_sayi=para_yazi_ile(inp_sayi)\n",
        "    print(inp_sayi)"
      ],
      "metadata": {
        "colab": {
          "base_uri": "https://localhost:8080/"
        },
        "id": "zIuIG4BHrmMS",
        "outputId": "7c9d6da9-2ccc-4d72-b7e7-e83c881b82c0"
      },
      "execution_count": null,
      "outputs": [
        {
          "output_type": "stream",
          "name": "stdout",
          "text": [
            "Sayı Girin1235873,36\n",
            "Yalnız Bir Milyon İki Yüz Otuz Beş Bin Sekiz Yüz Yetmiş Üç Türk Lirası ve Otuz Altı Kuruştur.\n"
          ]
        }
      ]
    },
    {
      "cell_type": "code",
      "source": [
        "queue = ['Zeynep', 'Mehmet', 'Mustafa']\n",
        "queue[0]"
      ],
      "metadata": {
        "colab": {
          "base_uri": "https://localhost:8080/",
          "height": 35
        },
        "id": "vxsGWHJqQHbd",
        "outputId": "168ed496-97a5-4e08-898e-afe68cba6f59"
      },
      "execution_count": null,
      "outputs": [
        {
          "output_type": "execute_result",
          "data": {
            "text/plain": [
              "'Zeynep'"
            ],
            "application/vnd.google.colaboratory.intrinsic+json": {
              "type": "string"
            }
          },
          "metadata": {},
          "execution_count": 2
        }
      ]
    },
    {
      "cell_type": "code",
      "source": [
        "\"\"\"string upper türkçe İ karakter\"\"\"\n",
        "myst1='Kategorilere Göre Ürün Dağılımı'\n",
        "myst2=myst1.upper()\n",
        "myst1=list(myst1)\n",
        "myst2=list(myst2)\n",
        "for i in range(len(myst1)):\n",
        "    if myst1[i]=='i':\n",
        "        myst2[i]='İ'\n",
        "myst2=''.join(myst2)\n",
        "print(myst2)"
      ],
      "metadata": {
        "colab": {
          "base_uri": "https://localhost:8080/"
        },
        "id": "EGzV2cD3rXT_",
        "outputId": "f9dcc618-a05e-402d-eca3-136e44b84164"
      },
      "execution_count": null,
      "outputs": [
        {
          "output_type": "stream",
          "name": "stdout",
          "text": [
            "KATEGORİLERE GÖRE ÜRÜN DAĞILIMI\n"
          ]
        }
      ]
    },
    {
      "cell_type": "code",
      "source": [
        "name = \"Mert\"\n",
        "hello_string = f\"Hello, {name}!\"\n",
        "print(hello_string)\n"
      ],
      "metadata": {
        "colab": {
          "base_uri": "https://localhost:8080/"
        },
        "id": "KA4CTYir-qw9",
        "outputId": "412548c3-405b-48d2-e348-1541ea606042"
      },
      "execution_count": null,
      "outputs": [
        {
          "output_type": "stream",
          "name": "stdout",
          "text": [
            "Hello, Mert!\n"
          ]
        }
      ]
    },
    {
      "cell_type": "code",
      "source": [
        "first_name = \"John\"\n",
        "last_name = \"Smith\"\n",
        "full_name = first_name + \" \" + last_name\n",
        "message = \"Sayın {}, size Mauritius adasına seyahat için bilet satın aldığınızı bildirmek isteriz. Bu yılın 31 Haziran'ında hareket edeceksiniz. Pasaportunuzu yanınızda bulundurmayı unutmayın {}. Sizi görmek için sabırsızlanıyoruz!\"\"\".format(first_name,full_name)\n",
        "message"
      ],
      "metadata": {
        "colab": {
          "base_uri": "https://localhost:8080/",
          "height": 53
        },
        "id": "iwzWkJ3PCaz8",
        "outputId": "d2bdc3a2-fe43-4be3-8a4c-24d51278a4d2"
      },
      "execution_count": null,
      "outputs": [
        {
          "output_type": "execute_result",
          "data": {
            "text/plain": [
              "\"Sayın John, size Mauritius adasına seyahat için bilet satın aldığınızı bildirmek isteriz. Bu yılın 31 Haziran'ında hareket edeceksiniz. Pasaportunuzu yanınızda bulundurmayı unutmayın John Smith. Sizi görmek için sabırsızlanıyoruz!\""
            ],
            "application/vnd.google.colaboratory.intrinsic+json": {
              "type": "string"
            }
          },
          "metadata": {},
          "execution_count": 5
        }
      ]
    },
    {
      "cell_type": "code",
      "source": [
        "def greeting(msg):\n",
        "    print(msg)\n",
        "msg='Hello world!'\n",
        "greeting(msg)\n"
      ],
      "metadata": {
        "colab": {
          "base_uri": "https://localhost:8080/"
        },
        "id": "ZzzEkxc9SVbj",
        "outputId": "da544de4-f757-4d9d-a263-b69c24fe9bd9"
      },
      "execution_count": null,
      "outputs": [
        {
          "output_type": "stream",
          "name": "stdout",
          "text": [
            "Hello world!\n"
          ]
        }
      ]
    },
    {
      "cell_type": "code",
      "source": [
        "first_name = \"John\"\n",
        "last_name = \"Smith\"\n",
        "full_name = first_name + \" \" + last_name\n",
        "message = f\"Sayın {full_name}, size Mauritius adasına seyahat için bilet satın aldığınızı bildirmek isteriz. Bu yılın 31 Haziran'ında hareket edeceksiniz. Pasaportunuzu yanınızda bulundurmayı unutmayın {first_name}. Sizi görmek için sabırsızlanıyoruz!\"\n",
        "message"
      ],
      "metadata": {
        "colab": {
          "base_uri": "https://localhost:8080/",
          "height": 53
        },
        "id": "QuefpniNPbtL",
        "outputId": "7930bead-1828-4205-e4b9-b821d3091050"
      },
      "execution_count": null,
      "outputs": [
        {
          "output_type": "execute_result",
          "data": {
            "text/plain": [
              "\"Sayın John Smith, size Mauritius adasına seyahat için bilet satın aldığınızı bildirmek isteriz. Bu yılın 31 Haziran'ında hareket edeceksiniz. Pasaportunuzu yanınızda bulundurmayı unutmayın John. Sizi görmek için sabırsızlanıyoruz!\""
            ],
            "application/vnd.google.colaboratory.intrinsic+json": {
              "type": "string"
            }
          },
          "metadata": {},
          "execution_count": 6
        }
      ]
    }
  ]
}