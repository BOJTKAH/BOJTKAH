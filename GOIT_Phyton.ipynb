{
  "cells": [
    {
      "cell_type": "markdown",
      "metadata": {
        "id": "view-in-github",
        "colab_type": "text"
      },
      "source": [
        "<a href=\"https://colab.research.google.com/github/BOJTKAH/BOJTKAH/blob/main/GOIT_Phyton.ipynb\" target=\"_parent\"><img src=\"https://colab.research.google.com/assets/colab-badge.svg\" alt=\"Open In Colab\"/></a>"
      ]
    },
    {
      "cell_type": "code",
      "execution_count": 3,
      "metadata": {
        "id": "tJlvy5SjtPqg",
        "colab": {
          "base_uri": "https://localhost:8080/"
        },
        "outputId": "2502043e-066f-46f5-cb21-27cbd65a50c0"
      },
      "outputs": [
        {
          "name": "stdout",
          "output_type": "stream",
          "text": [
            "Mesaj almak ister misiniz? Yes için 1/No için 00\n"
          ]
        }
      ],
      "source": [
        "is_active = bool(input(\"Mesaj almak ister misiniz? Yes için 1/No için 0\"))"
      ]
    },
    {
      "cell_type": "code",
      "source": [
        "is_active"
      ],
      "metadata": {
        "colab": {
          "base_uri": "https://localhost:8080/"
        },
        "id": "8598G-JmsXrh",
        "outputId": "a0d7d88e-77e6-4e36-9f54-25bacdb6c6f2"
      },
      "execution_count": 4,
      "outputs": [
        {
          "output_type": "execute_result",
          "data": {
            "text/plain": [
              "True"
            ]
          },
          "metadata": {},
          "execution_count": 4
        }
      ]
    },
    {
      "cell_type": "code",
      "source": [
        "work_experience = int(input(\"Enter your full work experience in years: \"))\n",
        "\n",
        "if work_experience > 1 and work_experience <= 5:\n",
        "    developer_type = \"Middle\"\n",
        "elif work_experience <= 1:\n",
        "    developer_type = \"Junior\"\n",
        "else:\n",
        "    developer_type = \"Senior\"\n",
        "developer_type"
      ],
      "metadata": {
        "colab": {
          "base_uri": "https://localhost:8080/",
          "height": 53
        },
        "id": "QhwAt2Vfsd_V",
        "outputId": "1ec743f7-c195-4dc9-887f-4b1f2d2c1dfb"
      },
      "execution_count": 10,
      "outputs": [
        {
          "name": "stdout",
          "output_type": "stream",
          "text": [
            "Enter your full work experience in years: 4\n"
          ]
        },
        {
          "output_type": "execute_result",
          "data": {
            "text/plain": [
              "'Middle'"
            ],
            "application/vnd.google.colaboratory.intrinsic+json": {
              "type": "string"
            }
          },
          "metadata": {},
          "execution_count": 10
        }
      ]
    },
    {
      "cell_type": "code",
      "source": [
        "def get_fullname(first_name, last_name, middle_name=''):\n",
        "    if not middle_name == '':\n",
        "        middle_name += ' '\n",
        "    return first_name + ' ' + middle_name + last_name\n",
        "get_fullname('Volkan','Çitimoğlu')"
      ],
      "metadata": {
        "colab": {
          "base_uri": "https://localhost:8080/",
          "height": 35
        },
        "id": "UFgF6xHGuFws",
        "outputId": "bf35db64-848e-4811-fa2b-3b8a3b644131"
      },
      "execution_count": 5,
      "outputs": [
        {
          "output_type": "execute_result",
          "data": {
            "text/plain": [
              "'Volkan Çitimoğlu'"
            ],
            "application/vnd.google.colaboratory.intrinsic+json": {
              "type": "string"
            }
          },
          "metadata": {},
          "execution_count": 5
        }
      ]
    },
    {
      "cell_type": "code",
      "source": [
        "def lookup_key(data, value2):\n",
        "    keylist = []\n",
        "    for l, value in data.items():\n",
        "        if value == value2:\n",
        "            keylist.append(l)\n",
        "    return keylist\n",
        "data={'key1': 1, 'key2': 2, 'key3': 3, 'key4': 2}\n",
        "lookup_key(data,2)"
      ],
      "metadata": {
        "colab": {
          "base_uri": "https://localhost:8080/"
        },
        "id": "y4XGpNODnUNI",
        "outputId": "546b92c1-48d6-4ba5-8543-5dbaac83131b"
      },
      "execution_count": 12,
      "outputs": [
        {
          "output_type": "execute_result",
          "data": {
            "text/plain": [
              "['key2', 'key4']"
            ]
          },
          "metadata": {},
          "execution_count": 12
        }
      ]
    },
    {
      "cell_type": "code",
      "source": [
        "grade = [52,63,85,96,12,9,45,74,32,41,74,78,10]\n",
        "summ = 0\n",
        "cnt = 0\n",
        "for value in grade:\n",
        "  summ += value\n",
        "  cnt += 1\n",
        "avg = summ / cnt\n",
        "print(summ, cnt, avg)"
      ],
      "metadata": {
        "colab": {
          "base_uri": "https://localhost:8080/"
        },
        "id": "x76tJTcdQAif",
        "outputId": "14b628b5-dba8-415c-d306-7c775189ed2e"
      },
      "execution_count": 26,
      "outputs": [
        {
          "output_type": "stream",
          "name": "stdout",
          "text": [
            "671 13 51.61538461538461\n"
          ]
        }
      ]
    },
    {
      "cell_type": "code",
      "source": [
        "def split_list(grade):\n",
        "    summ = 0\n",
        "    for value in grade:\n",
        "        summ += value\n",
        "    if len(grade) != 0:\n",
        "      avg = summ / len(grade)\n",
        "    tupp = ([],[])\n",
        "    for value in grade:\n",
        "        if value <= avg:\n",
        "          tupp[0].append(value)\n",
        "        else:\n",
        "          tupp[1].append(value)\n",
        "    return tupp\n",
        "split_list([])"
      ],
      "metadata": {
        "colab": {
          "base_uri": "https://localhost:8080/"
        },
        "id": "q1JhJYWD1Asd",
        "outputId": "e4d3d09b-818c-4ea7-9b83-0ab6190ac251"
      },
      "execution_count": 32,
      "outputs": [
        {
          "output_type": "execute_result",
          "data": {
            "text/plain": [
              "([], [])"
            ]
          },
          "metadata": {},
          "execution_count": 32
        }
      ]
    },
    {
      "cell_type": "code",
      "source": [],
      "metadata": {
        "id": "ea_7_rnGSaeX"
      },
      "execution_count": null,
      "outputs": []
    }
  ],
  "metadata": {
    "kernelspec": {
      "display_name": "Python 3",
      "language": "python",
      "name": "python3"
    },
    "language_info": {
      "codemirror_mode": {
        "name": "ipython",
        "version": 3
      },
      "file_extension": ".py",
      "mimetype": "text/x-python",
      "name": "python",
      "nbconvert_exporter": "python",
      "pygments_lexer": "ipython3",
      "version": "3.8.3"
    },
    "colab": {
      "provenance": [],
      "include_colab_link": true
    }
  },
  "nbformat": 4,
  "nbformat_minor": 0
}